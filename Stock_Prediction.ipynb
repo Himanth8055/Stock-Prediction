{
  "nbformat": 4,
  "nbformat_minor": 0,
  "metadata": {
    "colab": {
      "name": "Stock_Prediction.ipynb",
      "provenance": []
    },
    "kernelspec": {
      "name": "python3",
      "display_name": "Python 3"
    },
    "language_info": {
      "name": "python"
    }
  },
  "cells": [
    {
      "cell_type": "markdown",
      "source": [
        "# Recurrent Neural Network"
      ],
      "metadata": {
        "id": "xbx35PrjudIk"
      }
    },
    {
      "cell_type": "markdown",
      "source": [
        "Importing the libraries"
      ],
      "metadata": {
        "id": "a_A1JnTswMzk"
      }
    },
    {
      "cell_type": "code",
      "source": [
        "import numpy as np\n",
        "import matplotlib.pyplot as plt\n",
        "import pandas as pd"
      ],
      "metadata": {
        "id": "CSRT0-ekwPWF"
      },
      "execution_count": null,
      "outputs": []
    },
    {
      "cell_type": "markdown",
      "source": [
        "Data Pre-processing"
      ],
      "metadata": {
        "id": "1xw0t7jywH0Z"
      }
    },
    {
      "cell_type": "markdown",
      "source": [
        "Importing the training set"
      ],
      "metadata": {
        "id": "A_XNCWK7wLis"
      }
    },
    {
      "cell_type": "code",
      "source": [
        "dataset_training = pd.read_csv('Google_Stock_Price_Train.csv')\n",
        "training_set = dataset_training.iloc[:,1:2].values"
      ],
      "metadata": {
        "id": "gf2D874gwhNT"
      },
      "execution_count": null,
      "outputs": []
    },
    {
      "cell_type": "markdown",
      "source": [
        "Feature Scaling"
      ],
      "metadata": {
        "id": "lyEeaB4_yFbP"
      }
    },
    {
      "cell_type": "code",
      "source": [
        "from sklearn.preprocessing import MinMaxScaler\n",
        "sc = MinMaxScaler(feature_range = (0,1))\n",
        "training_set_scaled = sc.fit_transform(training_set)"
      ],
      "metadata": {
        "id": "PRgdFDnSyKHM"
      },
      "execution_count": null,
      "outputs": []
    },
    {
      "cell_type": "markdown",
      "source": [
        "Creating a Data structure with 60 timesteps and 1 output"
      ],
      "metadata": {
        "id": "WExDnYzqzii7"
      }
    },
    {
      "cell_type": "code",
      "source": [
        "X_train = []\n",
        "y_train = []\n",
        "for i in range(100,1258) : \n",
        "  X_train.append(training_set_scaled[i-100:i,0])\n",
        "  y_train.append(training_set_scaled[i,0])\n",
        "X_train, y_train = np.array(X_train), np.array(y_train)  "
      ],
      "metadata": {
        "id": "XuxEYGgxznrX"
      },
      "execution_count": null,
      "outputs": []
    },
    {
      "cell_type": "markdown",
      "source": [
        "Reshaping Arrays as inputs to RNN"
      ],
      "metadata": {
        "id": "cCUNC65m5Vrd"
      }
    },
    {
      "cell_type": "code",
      "source": [
        "X_train = np.reshape(X_train,(X_train.shape[0], X_train.shape[1],1))"
      ],
      "metadata": {
        "id": "_DRybN1R5aNe"
      },
      "execution_count": null,
      "outputs": []
    },
    {
      "cell_type": "markdown",
      "source": [
        "# Recurrent Neural Network"
      ],
      "metadata": {
        "id": "jRXP_e316LEE"
      }
    },
    {
      "cell_type": "markdown",
      "source": [
        "Importing the Libraries and necessary packages"
      ],
      "metadata": {
        "id": "fuGg-l_X6Pbz"
      }
    },
    {
      "cell_type": "code",
      "source": [
        "from keras.models import Sequential\n",
        "from keras.layers import Dense\n",
        "from keras.layers import LSTM\n",
        "from keras.layers import Dropout"
      ],
      "metadata": {
        "id": "yNL8_TES6Ozi"
      },
      "execution_count": null,
      "outputs": []
    },
    {
      "cell_type": "markdown",
      "source": [
        "Initialising the RNN"
      ],
      "metadata": {
        "id": "An4zAcVh6y4d"
      }
    },
    {
      "cell_type": "code",
      "source": [
        "regressor = Sequential()"
      ],
      "metadata": {
        "id": "XGl7tqSR60zu"
      },
      "execution_count": null,
      "outputs": []
    },
    {
      "cell_type": "markdown",
      "source": [
        "Adding the first LSTM and some Dropout Regularization"
      ],
      "metadata": {
        "id": "994gTj447FQM"
      }
    },
    {
      "cell_type": "code",
      "source": [
        "regressor.add(LSTM(units = 50, return_sequences = True, input_shape = (X_train.shape[1],1)))\n",
        "regressor.add(Dropout(0.2))"
      ],
      "metadata": {
        "id": "2PT7_Sg47K71"
      },
      "execution_count": null,
      "outputs": []
    },
    {
      "cell_type": "markdown",
      "source": [
        "Adding the second and third LSTM layer and some dropout regularization"
      ],
      "metadata": {
        "id": "88llPGAl9W3c"
      }
    },
    {
      "cell_type": "code",
      "source": [
        "regressor.add(LSTM(units =50,return_sequences = True))\n",
        "regressor.add(Dropout(0.2))\n",
        "regressor.add(LSTM(units =50,return_sequences = True))\n",
        "regressor.add(Dropout(0.2))"
      ],
      "metadata": {
        "id": "Vca5WII2-fqQ"
      },
      "execution_count": null,
      "outputs": []
    },
    {
      "cell_type": "markdown",
      "source": [
        "Adding the last LSTM layer and some dropout regularization"
      ],
      "metadata": {
        "id": "6QzvfFnh-1xz"
      }
    },
    {
      "cell_type": "code",
      "source": [
        "regressor.add(LSTM(units = 50))\n",
        "regressor.add(Dropout(0.2))"
      ],
      "metadata": {
        "id": "PSbF_GCy-7zx"
      },
      "execution_count": null,
      "outputs": []
    },
    {
      "cell_type": "markdown",
      "source": [
        "Adding the Output layer"
      ],
      "metadata": {
        "id": "fWHgl1Zl_Hp7"
      }
    },
    {
      "cell_type": "code",
      "source": [
        "regressor.add(Dense(units =1))"
      ],
      "metadata": {
        "id": "OW4_iARi_KYI"
      },
      "execution_count": null,
      "outputs": []
    },
    {
      "cell_type": "markdown",
      "source": [
        "#Compiling the RNN"
      ],
      "metadata": {
        "id": "kpi-IdPb_y3z"
      }
    },
    {
      "cell_type": "code",
      "source": [
        "regressor.compile(optimizer = 'adam', loss = 'mean_squared_error')"
      ],
      "metadata": {
        "id": "4V1-HHl4RPS3"
      },
      "execution_count": null,
      "outputs": []
    },
    {
      "cell_type": "markdown",
      "source": [
        "Fitting the RNN to the training set"
      ],
      "metadata": {
        "id": "1mOTCz2pReKY"
      }
    },
    {
      "cell_type": "code",
      "source": [
        "regressor.fit(X_train, y_train,batch_size = 32, epochs = 100)"
      ],
      "metadata": {
        "colab": {
          "base_uri": "https://localhost:8080/"
        },
        "id": "nGkj-D9CRh6c",
        "outputId": "7833ddfc-90ed-49fc-9bb0-2e6958a0f942"
      },
      "execution_count": null,
      "outputs": [
        {
          "output_type": "stream",
          "name": "stdout",
          "text": [
            "Epoch 1/100\n",
            "37/37 [==============================] - 15s 231ms/step - loss: 0.0374\n",
            "Epoch 2/100\n",
            "37/37 [==============================] - 8s 229ms/step - loss: 0.0056\n",
            "Epoch 3/100\n",
            "37/37 [==============================] - 7s 199ms/step - loss: 0.0060\n",
            "Epoch 4/100\n",
            "37/37 [==============================] - 6s 160ms/step - loss: 0.0044\n",
            "Epoch 5/100\n",
            "37/37 [==============================] - 6s 160ms/step - loss: 0.0044\n",
            "Epoch 6/100\n",
            "37/37 [==============================] - 6s 158ms/step - loss: 0.0045\n",
            "Epoch 7/100\n",
            "37/37 [==============================] - 6s 159ms/step - loss: 0.0048\n",
            "Epoch 8/100\n",
            "37/37 [==============================] - 6s 157ms/step - loss: 0.0040\n",
            "Epoch 9/100\n",
            "37/37 [==============================] - 6s 159ms/step - loss: 0.0043\n",
            "Epoch 10/100\n",
            "37/37 [==============================] - 6s 158ms/step - loss: 0.0040\n",
            "Epoch 11/100\n",
            "37/37 [==============================] - 6s 157ms/step - loss: 0.0041\n",
            "Epoch 12/100\n",
            "37/37 [==============================] - 6s 156ms/step - loss: 0.0039\n",
            "Epoch 13/100\n",
            "37/37 [==============================] - 6s 164ms/step - loss: 0.0035\n",
            "Epoch 14/100\n",
            "37/37 [==============================] - 6s 160ms/step - loss: 0.0044\n",
            "Epoch 15/100\n",
            "37/37 [==============================] - 6s 158ms/step - loss: 0.0033\n",
            "Epoch 16/100\n",
            "37/37 [==============================] - 6s 160ms/step - loss: 0.0033\n",
            "Epoch 17/100\n",
            "37/37 [==============================] - 6s 157ms/step - loss: 0.0035\n",
            "Epoch 18/100\n",
            "37/37 [==============================] - 6s 158ms/step - loss: 0.0035\n",
            "Epoch 19/100\n",
            "37/37 [==============================] - 6s 159ms/step - loss: 0.0030\n",
            "Epoch 20/100\n",
            "37/37 [==============================] - 6s 157ms/step - loss: 0.0036\n",
            "Epoch 21/100\n",
            "37/37 [==============================] - 6s 157ms/step - loss: 0.0028\n",
            "Epoch 22/100\n",
            "37/37 [==============================] - 6s 156ms/step - loss: 0.0031\n",
            "Epoch 23/100\n",
            "37/37 [==============================] - 6s 160ms/step - loss: 0.0031\n",
            "Epoch 24/100\n",
            "37/37 [==============================] - 6s 158ms/step - loss: 0.0031\n",
            "Epoch 25/100\n",
            "37/37 [==============================] - 6s 160ms/step - loss: 0.0032\n",
            "Epoch 26/100\n",
            "37/37 [==============================] - 6s 157ms/step - loss: 0.0036\n",
            "Epoch 27/100\n",
            "37/37 [==============================] - 6s 158ms/step - loss: 0.0029\n",
            "Epoch 28/100\n",
            "37/37 [==============================] - 6s 160ms/step - loss: 0.0028\n",
            "Epoch 29/100\n",
            "37/37 [==============================] - 6s 155ms/step - loss: 0.0028\n",
            "Epoch 30/100\n",
            "37/37 [==============================] - 6s 157ms/step - loss: 0.0027\n",
            "Epoch 31/100\n",
            "37/37 [==============================] - 6s 158ms/step - loss: 0.0027\n",
            "Epoch 32/100\n",
            "37/37 [==============================] - 6s 159ms/step - loss: 0.0029\n",
            "Epoch 33/100\n",
            "37/37 [==============================] - 6s 155ms/step - loss: 0.0028\n",
            "Epoch 34/100\n",
            "37/37 [==============================] - 6s 158ms/step - loss: 0.0024\n",
            "Epoch 35/100\n",
            "37/37 [==============================] - 6s 158ms/step - loss: 0.0025\n",
            "Epoch 36/100\n",
            "37/37 [==============================] - 6s 158ms/step - loss: 0.0026\n",
            "Epoch 37/100\n",
            "37/37 [==============================] - 6s 157ms/step - loss: 0.0027\n",
            "Epoch 38/100\n",
            "37/37 [==============================] - 6s 155ms/step - loss: 0.0027\n",
            "Epoch 39/100\n",
            "37/37 [==============================] - 6s 156ms/step - loss: 0.0024\n",
            "Epoch 40/100\n",
            "37/37 [==============================] - 6s 158ms/step - loss: 0.0024\n",
            "Epoch 41/100\n",
            "37/37 [==============================] - 6s 160ms/step - loss: 0.0025\n",
            "Epoch 42/100\n",
            "37/37 [==============================] - 6s 157ms/step - loss: 0.0026\n",
            "Epoch 43/100\n",
            "37/37 [==============================] - 6s 156ms/step - loss: 0.0024\n",
            "Epoch 44/100\n",
            "37/37 [==============================] - 6s 158ms/step - loss: 0.0024\n",
            "Epoch 45/100\n",
            "37/37 [==============================] - 6s 163ms/step - loss: 0.0022\n",
            "Epoch 46/100\n",
            "37/37 [==============================] - 6s 155ms/step - loss: 0.0024\n",
            "Epoch 47/100\n",
            "37/37 [==============================] - 6s 159ms/step - loss: 0.0025\n",
            "Epoch 48/100\n",
            "37/37 [==============================] - 6s 157ms/step - loss: 0.0025\n",
            "Epoch 49/100\n",
            "37/37 [==============================] - 6s 156ms/step - loss: 0.0024\n",
            "Epoch 50/100\n",
            "37/37 [==============================] - 6s 156ms/step - loss: 0.0023\n",
            "Epoch 51/100\n",
            "37/37 [==============================] - 6s 157ms/step - loss: 0.0021\n",
            "Epoch 52/100\n",
            "37/37 [==============================] - 6s 157ms/step - loss: 0.0021\n",
            "Epoch 53/100\n",
            "37/37 [==============================] - 6s 155ms/step - loss: 0.0023\n",
            "Epoch 54/100\n",
            "37/37 [==============================] - 6s 157ms/step - loss: 0.0019\n",
            "Epoch 55/100\n",
            "37/37 [==============================] - 6s 158ms/step - loss: 0.0022\n",
            "Epoch 56/100\n",
            "37/37 [==============================] - 6s 161ms/step - loss: 0.0020\n",
            "Epoch 57/100\n",
            "37/37 [==============================] - 6s 159ms/step - loss: 0.0019\n",
            "Epoch 58/100\n",
            "37/37 [==============================] - 6s 158ms/step - loss: 0.0020\n",
            "Epoch 59/100\n",
            "37/37 [==============================] - 6s 158ms/step - loss: 0.0018\n",
            "Epoch 60/100\n",
            "37/37 [==============================] - 6s 156ms/step - loss: 0.0020\n",
            "Epoch 61/100\n",
            "37/37 [==============================] - 6s 157ms/step - loss: 0.0019\n",
            "Epoch 62/100\n",
            "37/37 [==============================] - 6s 157ms/step - loss: 0.0019\n",
            "Epoch 63/100\n",
            "37/37 [==============================] - 6s 156ms/step - loss: 0.0021\n",
            "Epoch 64/100\n",
            "37/37 [==============================] - 6s 158ms/step - loss: 0.0019\n",
            "Epoch 65/100\n",
            "37/37 [==============================] - 6s 158ms/step - loss: 0.0020\n",
            "Epoch 66/100\n",
            "37/37 [==============================] - 6s 156ms/step - loss: 0.0019\n",
            "Epoch 67/100\n",
            "37/37 [==============================] - 6s 157ms/step - loss: 0.0017\n",
            "Epoch 68/100\n",
            "37/37 [==============================] - 6s 156ms/step - loss: 0.0019\n",
            "Epoch 69/100\n",
            "37/37 [==============================] - 6s 157ms/step - loss: 0.0016\n",
            "Epoch 70/100\n",
            "37/37 [==============================] - 6s 158ms/step - loss: 0.0016\n",
            "Epoch 71/100\n",
            "37/37 [==============================] - 6s 157ms/step - loss: 0.0015\n",
            "Epoch 72/100\n",
            "37/37 [==============================] - 6s 155ms/step - loss: 0.0018\n",
            "Epoch 73/100\n",
            "37/37 [==============================] - 6s 157ms/step - loss: 0.0017\n",
            "Epoch 74/100\n",
            "37/37 [==============================] - 6s 157ms/step - loss: 0.0017\n",
            "Epoch 75/100\n",
            "37/37 [==============================] - 6s 157ms/step - loss: 0.0016\n",
            "Epoch 76/100\n",
            "37/37 [==============================] - 6s 158ms/step - loss: 0.0015\n",
            "Epoch 77/100\n",
            "37/37 [==============================] - 6s 156ms/step - loss: 0.0016\n",
            "Epoch 78/100\n",
            "37/37 [==============================] - 6s 160ms/step - loss: 0.0015\n",
            "Epoch 79/100\n",
            "37/37 [==============================] - 6s 161ms/step - loss: 0.0016\n",
            "Epoch 80/100\n",
            "37/37 [==============================] - 6s 155ms/step - loss: 0.0021\n",
            "Epoch 81/100\n",
            "37/37 [==============================] - 6s 158ms/step - loss: 0.0016\n",
            "Epoch 82/100\n",
            "37/37 [==============================] - 6s 157ms/step - loss: 0.0014\n",
            "Epoch 83/100\n",
            "37/37 [==============================] - 6s 156ms/step - loss: 0.0015\n",
            "Epoch 84/100\n",
            "37/37 [==============================] - 6s 157ms/step - loss: 0.0015\n",
            "Epoch 85/100\n",
            "37/37 [==============================] - 6s 156ms/step - loss: 0.0014\n",
            "Epoch 86/100\n",
            "37/37 [==============================] - 6s 155ms/step - loss: 0.0014\n",
            "Epoch 87/100\n",
            "37/37 [==============================] - 6s 157ms/step - loss: 0.0015\n",
            "Epoch 88/100\n",
            "37/37 [==============================] - 6s 157ms/step - loss: 0.0016\n",
            "Epoch 89/100\n",
            "37/37 [==============================] - 6s 157ms/step - loss: 0.0014\n",
            "Epoch 90/100\n",
            "37/37 [==============================] - 6s 155ms/step - loss: 0.0014\n",
            "Epoch 91/100\n",
            "37/37 [==============================] - 6s 156ms/step - loss: 0.0015\n",
            "Epoch 92/100\n",
            "37/37 [==============================] - 6s 157ms/step - loss: 0.0016\n",
            "Epoch 93/100\n",
            "37/37 [==============================] - 6s 156ms/step - loss: 0.0013\n",
            "Epoch 94/100\n",
            "37/37 [==============================] - 6s 157ms/step - loss: 0.0014\n",
            "Epoch 95/100\n",
            "37/37 [==============================] - 6s 157ms/step - loss: 0.0013\n",
            "Epoch 96/100\n",
            "37/37 [==============================] - 6s 156ms/step - loss: 0.0015\n",
            "Epoch 97/100\n",
            "37/37 [==============================] - 6s 157ms/step - loss: 0.0014\n",
            "Epoch 98/100\n",
            "37/37 [==============================] - 6s 157ms/step - loss: 0.0012\n",
            "Epoch 99/100\n",
            "37/37 [==============================] - 6s 158ms/step - loss: 0.0014\n",
            "Epoch 100/100\n",
            "37/37 [==============================] - 6s 156ms/step - loss: 0.0012\n"
          ]
        },
        {
          "output_type": "execute_result",
          "data": {
            "text/plain": [
              "<keras.callbacks.History at 0x7fb82dfa1150>"
            ]
          },
          "metadata": {},
          "execution_count": 66
        }
      ]
    },
    {
      "cell_type": "markdown",
      "source": [
        "# Making the predictions and visualising the results"
      ],
      "metadata": {
        "id": "nj_OAfr7YcMx"
      }
    },
    {
      "cell_type": "markdown",
      "source": [
        "Getting the real stock price "
      ],
      "metadata": {
        "id": "N7oZMiJXYgcJ"
      }
    },
    {
      "cell_type": "code",
      "source": [
        "dataset_test = pd.read_csv('Google_Stock_Price_Test.csv')\n",
        "real_stock_price = dataset_test.iloc[:,1:2].values"
      ],
      "metadata": {
        "id": "px_jCC9lYlfy"
      },
      "execution_count": null,
      "outputs": []
    },
    {
      "cell_type": "markdown",
      "source": [
        "Getting the predicted stock price"
      ],
      "metadata": {
        "id": "6lixXwGwZKkq"
      }
    },
    {
      "cell_type": "code",
      "source": [
        "dataset_total = pd.concat((dataset_training['Open'],dataset_test['Open']),axis =0)\n",
        "inputs = dataset_total[len(dataset_total)-len(dataset_test)-100:].values\n",
        "inputs = inputs.reshape(-1,1)\n",
        "inputs = sc.transform(inputs)\n",
        "X_test = []\n",
        "for i in range(100,120):\n",
        "  X_test.append(inputs[i-100:i,0])\n",
        "X_test = np.array(X_test)  \n",
        "X_test = np.reshape(X_test, (X_test.shape[0], X_test.shape[1],1))  \n",
        "predicted_stock_price = regressor.predict(X_test)\n",
        "predicted_stock_price = sc.inverse_transform(predicted_stock_price)  "
      ],
      "metadata": {
        "id": "PBY8txuBZQ4O"
      },
      "execution_count": null,
      "outputs": []
    },
    {
      "cell_type": "markdown",
      "source": [
        "# Visualising the results"
      ],
      "metadata": {
        "id": "4A4Xz3RPgFY6"
      }
    },
    {
      "cell_type": "code",
      "source": [
        "plt.plot(real_stock_price,color = 'red',label = 'Real Gooogle Stock price')\n",
        "plt.plot(predicted_stock_price,color = 'blue', label = 'Predicted Google stock price')\n",
        "plt.xlabel('Time')\n",
        "plt.title('Google Stock prediction')\n",
        "plt.ylabel('Stock Price')\n",
        "plt.legend()\n",
        "plt.show()"
      ],
      "metadata": {
        "colab": {
          "base_uri": "https://localhost:8080/",
          "height": 295
        },
        "id": "ETqgUR0ngJX_",
        "outputId": "79163596-c9a6-4a25-a7a7-66e6eea02b0f"
      },
      "execution_count": null,
      "outputs": [
        {
          "output_type": "display_data",
          "data": {
            "text/plain": [
              "<Figure size 432x288 with 1 Axes>"
            ],
            "image/png": "[encoded data removed]"
          },
          "metadata": {
            "needs_background": "light"
          }
        }
      ]
    }
  ]
}